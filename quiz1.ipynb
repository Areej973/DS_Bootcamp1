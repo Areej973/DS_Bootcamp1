{
  "nbformat": 4,
  "nbformat_minor": 0,
  "metadata": {
    "colab": {
      "provenance": [],
      "authorship_tag": "ABX9TyOqxUrkxGQdwxCreTwpbt20",
      "include_colab_link": true
    },
    "kernelspec": {
      "name": "python3",
      "display_name": "Python 3"
    },
    "language_info": {
      "name": "python"
    }
  },
  "cells": [
    {
      "cell_type": "markdown",
      "metadata": {
        "id": "view-in-github",
        "colab_type": "text"
      },
      "source": [
        "<a href=\"https://colab.research.google.com/github/Areej973/DS_Bootcamp1/blob/main/quiz1.ipynb\" target=\"_parent\"><img src=\"https://colab.research.google.com/assets/colab-badge.svg\" alt=\"Open In Colab\"/></a>"
      ]
    },
    {
      "cell_type": "code",
      "execution_count": null,
      "metadata": {
        "id": "yUKOe7cl3IyE"
      },
      "outputs": [],
      "source": [
        "# Quiz #1\n",
        "def num_sum(number, Target):\n",
        "  number_dict={}\n",
        "  for i, num in enumerate(number):\n",
        "    diff= Target - num\n",
        "    if diff in number_dict:\n",
        "      return [number_dict[diff] , i]\n",
        "    number_dict[num]=i\n",
        "  return None\n",
        "\n",
        "number=[2,7,11,15]\n",
        "Target=22\n",
        "print(num_sum(number, Target))"
      ]
    }
  ]
}