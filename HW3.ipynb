{
  "nbformat": 4,
  "nbformat_minor": 0,
  "metadata": {
    "colab": {
      "provenance": [],
      "authorship_tag": "ABX9TyPjbx4ujptJ6ono736Nyz5F",
      "include_colab_link": true
    },
    "kernelspec": {
      "name": "python3",
      "display_name": "Python 3"
    },
    "language_info": {
      "name": "python"
    }
  },
  "cells": [
    {
      "cell_type": "markdown",
      "metadata": {
        "id": "view-in-github",
        "colab_type": "text"
      },
      "source": [
        "<a href=\"https://colab.research.google.com/github/Areej973/DS_Bootcamp1/blob/main/HW3.ipynb\" target=\"_parent\"><img src=\"https://colab.research.google.com/assets/colab-badge.svg\" alt=\"Open In Colab\"/></a>"
      ]
    },
    {
      "cell_type": "markdown",
      "source": [
        " **This is HW2 at DS bootcamp**\n",
        " Write a Python program to construct the following pattern, using a nested for loop. (Get the number of the 'stars' from the user).\n"
      ],
      "metadata": {
        "id": "fEM7bVO8SOd3"
      }
    },
    {
      "cell_type": "code",
      "source": [
        "num =int(input('Number of the stars:'))\n",
        "for i in range(num):\n",
        "    for j in range(i):\n",
        "        print('* ',end=\"\")\n",
        "    print('')\n",
        "\n",
        "for i in range(num, 0, -1):\n",
        "    for j in range(i):\n",
        "        print('* ',end=\"\")\n",
        "    print('')"
      ],
      "metadata": {
        "id": "Oa3HXAq5SdAZ"
      },
      "execution_count": null,
      "outputs": []
    },
    {
      "cell_type": "markdown",
      "source": [
        "Print the first 3 prime numbers that are greater than 10 but less than 99."
      ],
      "metadata": {
        "id": "GoC64DXwptPq"
      }
    },
    {
      "cell_type": "code",
      "source": [
        "def prime_num(n):\n",
        "  if n < 2:\n",
        "    return False\n",
        "  for i in range(2,int(n**0.5) + 1):\n",
        "    if n % i == 0:\n",
        "      return False\n",
        "  return True\n",
        "\n",
        "count=0\n",
        "number=int(input('Enter number greater than 10 but less than 99 :'))\n",
        "print('The first first 3 prime numbers greater than 10 but less than 99 are :')\n",
        "while count < 3:\n",
        "  if prime_num(number):\n",
        "    print(number)\n",
        "    count+=1\n",
        "\n",
        "  number+=1\n"
      ],
      "metadata": {
        "id": "U46ZNV6Np9l2"
      },
      "execution_count": null,
      "outputs": []
    }
  ]
}