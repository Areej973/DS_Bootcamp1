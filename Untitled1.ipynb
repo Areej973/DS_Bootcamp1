{
  "nbformat": 4,
  "nbformat_minor": 0,
  "metadata": {
    "colab": {
      "provenance": [],
      "authorship_tag": "ABX9TyMhzgLTFUWa5D7g2SRAOYVY",
      "include_colab_link": true
    },
    "kernelspec": {
      "name": "python3",
      "display_name": "Python 3"
    },
    "language_info": {
      "name": "python"
    }
  },
  "cells": [
    {
      "cell_type": "markdown",
      "metadata": {
        "id": "view-in-github",
        "colab_type": "text"
      },
      "source": [
        "<a href=\"https://colab.research.google.com/github/Areej973/DS_Bootcamp1/blob/main/Untitled1.ipynb\" target=\"_parent\"><img src=\"https://colab.research.google.com/assets/colab-badge.svg\" alt=\"Open In Colab\"/></a>"
      ]
    },
    {
      "cell_type": "code",
      "execution_count": 1,
      "metadata": {
        "colab": {
          "base_uri": "https://localhost:8080/"
        },
        "id": "N_E1FqvZiROQ",
        "outputId": "5f5da1ed-045c-4d57-b8b9-d6ce659de8f5"
      },
      "outputs": [
        {
          "output_type": "stream",
          "name": "stdout",
          "text": [
            "Hello everyone, my name is Areej and my age is 24, and I will become the best data scientist.\n"
          ]
        }
      ],
      "source": [
        "# this is HW1 at DS bootcamp\n",
        "\n",
        "# Definition of the name variable\n",
        "name='Areej' # type String\n",
        "\n",
        "# Definition of the age variable\n",
        "age= 24 # type Interger\n",
        "\n",
        "# print statement\n",
        "print (f'Hello everyone, my name is {name} and my age is {age}, and I will become the best data scientist.')"
      ]
    }
  ]
}