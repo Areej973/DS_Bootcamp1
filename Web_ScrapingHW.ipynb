{
  "nbformat": 4,
  "nbformat_minor": 0,
  "metadata": {
    "colab": {
      "provenance": [],
      "authorship_tag": "ABX9TyPlvSXxI6iELSvoLi7eRkKf",
      "include_colab_link": true
    },
    "kernelspec": {
      "name": "python3",
      "display_name": "Python 3"
    },
    "language_info": {
      "name": "python"
    }
  },
  "cells": [
    {
      "cell_type": "markdown",
      "metadata": {
        "id": "view-in-github",
        "colab_type": "text"
      },
      "source": [
        "<a href=\"https://colab.research.google.com/github/Areej973/DS_Bootcamp1/blob/main/Web_ScrapingHW.ipynb\" target=\"_parent\"><img src=\"https://colab.research.google.com/assets/colab-badge.svg\" alt=\"Open In Colab\"/></a>"
      ]
    },
    {
      "cell_type": "markdown",
      "source": [
        "# Web Scraping\n",
        "Choose a website of your choice and do the following:\n",
        "\n",
        "   Load a table into Python using pandas Clean the data if needed\n",
        "   Analyze the data to make a decision (e.g. go outside or not based on the weather, change your diet based on calories)\n",
        "   State any assumptions and rationale that your decision relies on"
      ],
      "metadata": {
        "id": "T2gQs7GWqKvy"
      }
    },
    {
      "cell_type": "code",
      "source": [
        "\n",
        "import pandas as pd\n",
        "import numpy as np\n",
        "\n",
        "# read the data\n",
        "df = pd.read_csv('https://raw.githubusercontent.com/raunak274/analyzing-weather-dataset/master/file.csv')\n",
        "\n",
        "# Display the number of rows and columns\n",
        "print(\"Shape of the dataframe:\", df.shape)\n",
        "\n",
        "# Display sample of the dataframe\n",
        "print(\"Sample of the dataframe:\")\n",
        "print(df.head())\n",
        "\n",
        "# Data statistics\n",
        "print(\"\\n Data statistics:\")\n",
        "print(df.describe())\n",
        "\n",
        "# missing values\n",
        "print(\"\\nThe sum of the missing values in each column :\")\n",
        "print(df.isnull().sum())\n",
        "\n",
        "# Get the descriptive statistics of the weather conditions\n",
        "df_stats = df.describe()\n",
        "\n",
        "\n",
        "# Define decision criteria\n",
        "temperature_threshold = -1.8   # Celsius\n",
        "humidity_threshold = 86      # Percentage\n",
        "wind_speed_threshold = 4    # km/h\n",
        "\n",
        "# Implement decision logic\n",
        "def make_decision(row):\n",
        "    if row['Temp (C)'] <= temperature_threshold and row['Rel Hum (%)'] <= humidity_threshold \\\n",
        "            and row['Wind Spd (km/h)'] <= wind_speed_threshold :\n",
        "        return 'Go Outside'\n",
        "    else:\n",
        "        return 'Stay Indoors'\n",
        "\n",
        "\n",
        "# Apply decision logic to each row\n",
        "df['Decision'] = df.apply(make_decision, axis=1)\n",
        "\n",
        "# Display results\n",
        "print(df[\"Decision\"])\n"
      ],
      "metadata": {
        "colab": {
          "base_uri": "https://localhost:8080/"
        },
        "id": "CTAUkeIJjS1x",
        "outputId": "cd4af948-6131-44e8-b7ae-b1c3ae784709"
      },
      "execution_count": 25,
      "outputs": [
        {
          "output_type": "stream",
          "name": "stdout",
          "text": [
            "Shape of the dataframe: (8784, 8)\n",
            "Sample of the dataframe:\n",
            "             Date/Time  Temp (C)  Dew Point Temp (C)  Rel Hum (%)  \\\n",
            "0  2012-01-01 00:00:00      -1.8                -3.9           86   \n",
            "1  2012-01-01 01:00:00      -1.8                -3.7           87   \n",
            "2  2012-01-01 02:00:00      -1.8                -3.4           89   \n",
            "3  2012-01-01 03:00:00      -1.5                -3.2           88   \n",
            "4  2012-01-01 04:00:00      -1.5                -3.3           88   \n",
            "\n",
            "   Wind Spd (km/h)  Visibility (km)  Stn Press (kPa)               Weather  \n",
            "0                4              8.0           101.24                   Fog  \n",
            "1                4              8.0           101.24                   Fog  \n",
            "2                7              4.0           101.26  Freezing Drizzle,Fog  \n",
            "3                6              4.0           101.27  Freezing Drizzle,Fog  \n",
            "4                7              4.8           101.23                   Fog  \n",
            "\n",
            " Data statistics:\n",
            "          Temp (C)  Dew Point Temp (C)  Rel Hum (%)  Wind Spd (km/h)  \\\n",
            "count  8784.000000         8784.000000  8784.000000      8784.000000   \n",
            "mean      8.798144            2.555294    67.431694        14.945469   \n",
            "std      11.687883           10.883072    16.918881         8.688696   \n",
            "min     -23.300000          -28.500000    18.000000         0.000000   \n",
            "25%       0.100000           -5.900000    56.000000         9.000000   \n",
            "50%       9.300000            3.300000    68.000000        13.000000   \n",
            "75%      18.800000           11.800000    81.000000        20.000000   \n",
            "max      33.000000           24.400000   100.000000        83.000000   \n",
            "\n",
            "       Visibility (km)  Stn Press (kPa)  \n",
            "count      8784.000000      8784.000000  \n",
            "mean         27.664447       101.051623  \n",
            "std          12.622688         0.844005  \n",
            "min           0.200000        97.520000  \n",
            "25%          24.100000       100.560000  \n",
            "50%          25.000000       101.070000  \n",
            "75%          25.000000       101.590000  \n",
            "max          48.300000       103.650000  \n",
            "\n",
            "The sum of the missing values in each column :\n",
            "Date/Time             0\n",
            "Temp (C)              0\n",
            "Dew Point Temp (C)    0\n",
            "Rel Hum (%)           0\n",
            "Wind Spd (km/h)       0\n",
            "Visibility (km)       0\n",
            "Stn Press (kPa)       0\n",
            "Weather               0\n",
            "dtype: int64\n",
            "0         Go Outside\n",
            "1       Stay Indoors\n",
            "2       Stay Indoors\n",
            "3       Stay Indoors\n",
            "4       Stay Indoors\n",
            "            ...     \n",
            "8779    Stay Indoors\n",
            "8780    Stay Indoors\n",
            "8781    Stay Indoors\n",
            "8782    Stay Indoors\n",
            "8783    Stay Indoors\n",
            "Name: Decision, Length: 8784, dtype: object\n"
          ]
        }
      ]
    }
  ]
}