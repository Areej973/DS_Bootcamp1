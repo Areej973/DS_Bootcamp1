{
  "nbformat": 4,
  "nbformat_minor": 0,
  "metadata": {
    "colab": {
      "provenance": [],
      "authorship_tag": "ABX9TyPNSabEhKYXvCayX6q/dQZ/",
      "include_colab_link": true
    },
    "kernelspec": {
      "name": "python3",
      "display_name": "Python 3"
    },
    "language_info": {
      "name": "python"
    }
  },
  "cells": [
    {
      "cell_type": "markdown",
      "metadata": {
        "id": "view-in-github",
        "colab_type": "text"
      },
      "source": [
        "<a href=\"https://colab.research.google.com/github/Areej973/DS_Bootcamp1/blob/main/HW2.ipynb\" target=\"_parent\"><img src=\"https://colab.research.google.com/assets/colab-badge.svg\" alt=\"Open In Colab\"/></a>"
      ]
    },
    {
      "cell_type": "markdown",
      "source": [
        " **This is HW2 at DS bootcamp**\n",
        "\n",
        " A code for calculating employees’ bonuses depends on the number of years of experience and their performance evaluation (such as the table shown below).\n",
        "\n",
        "\n",
        " ![HR q.png](data:image/png;base64,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)\n"
      ],
      "metadata": {
        "id": "AhNtt3AeCmmL"
      }
    },
    {
      "cell_type": "code",
      "source": [
        "def Calculate_Bonus(Years, Evaluation):\n",
        "  if Years >= 10:\n",
        "    if Evaluation == 'Excellent':\n",
        "      Bonus_percentage = 0.20*100\n",
        "    elif Evaluation == 'Poor':\n",
        "      Bonus_percentage = 0.15*100\n",
        "    else :\n",
        "      Bonus_percentage = 0*100\n",
        "  else :\n",
        "    if Evaluation == 'Excellent':\n",
        "      Bonus_percentage = 0.10*100\n",
        "    elif Evaluation == 'Poor':\n",
        "      Bonus_percentage = 0.05*100\n",
        "    else :\n",
        "      Bonus_percentage= 0*100\n",
        "\n",
        "  return Bonus_percentage\n",
        "\n",
        "emp_Years =int(input('Years of experience :' ))\n",
        "emp_Evaluation = input('Performance evaluation :')\n",
        "Bonus = Calculate_Bonus(emp_Years, emp_Evaluation)\n",
        "print(f'Bonus percentage : {Bonus}%')"
      ],
      "metadata": {
        "colab": {
          "base_uri": "https://localhost:8080/"
        },
        "id": "stQ3BDaDDXZx",
        "outputId": "385b3c6c-033c-45fd-b434-23208af0affb"
      },
      "execution_count": 17,
      "outputs": [
        {
          "output_type": "stream",
          "name": "stdout",
          "text": [
            "Years of experience :5\n",
            "Performance evaluation :Excellent\n",
            "Bonus percentage : 10.0%\n"
          ]
        }
      ]
    }
  ]
}